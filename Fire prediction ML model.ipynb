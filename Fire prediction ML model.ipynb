{
 "cells": [
  {
   "cell_type": "markdown",
   "metadata": {},
   "source": [
    "Machine learning courses:\n",
    "\n",
    "https://www.datacamp.com/courses/designing-machine-learning-workflows-in-python\n",
    "\n",
    "https://www.datacamp.com/courses/improving-your-data-visualizations-in-python\n",
    "\n",
    "https://www.datacamp.com/courses/supervised-learning-with-scikit-learn\n",
    "\n",
    "https://courses.edx.org/courses/course-v1:MITx+6.86x+1T2019/course/\n",
    "\n",
    "\n",
    "Robb's tutorial:\n",
    "https://colab.research.google.com/drive/1dvFSTjdC8eTxFrQ0Ho62iD-tiBAZGaiS\n",
    "\n",
    "\n",
    "Heatmaps:\n",
    "https://towardsdatascience.com/better-heatmaps-and-correlation-matrix-plots-in-python-41445d0f2bec\n",
    "https://ajh1143.github.io/Corr/\n"
   ]
  },
  {
   "cell_type": "markdown",
   "metadata": {},
   "source": [
    "# Loading the required libraries"
   ]
  },
  {
   "cell_type": "code",
   "execution_count": 1,
   "metadata": {},
   "outputs": [],
   "source": [
    "## Statistical and visualization libraries\n",
    "import numpy as np\n",
    "import pylab as pl\n",
    "import pandas as pd\n",
    "import seaborn as sns\n",
    "import matplotlib.pyplot as plt\n",
    "\n",
    "## Mapping libraries\n",
    "import folium\n",
    "from folium.plugins import HeatMap\n",
    "\n",
    "## Machine learning libraries\n",
    "from sklearn import datasets\n",
    "from sklearn.preprocessing import LabelEncoder as le\n",
    "from sklearn.tree import DecisionTreeRegressor\n",
    "from sklearn.ensemble import RandomForestClassifier\n",
    "from sklearn.model_selection import GridSearchCV, cross_val_score\n",
    "\n",
    "from sklearn.metrics import mean_squared_error,median_absolute_error,r2_score,mean_absolute_error\n",
    "\n",
    "%matplotlib inline"
   ]
  },
  {
   "cell_type": "markdown",
   "metadata": {},
   "source": [
    "# Loading the data"
   ]
  },
  {
   "cell_type": "code",
   "execution_count": 2,
   "metadata": {},
   "outputs": [],
   "source": [
    "fires = pd.read_csv('data/fires2.csv', parse_dates=True)\n",
    "parcels = pd.read_excel('data/parcels2.xlsx', parse_dates=True)\n",
    "foreclosures = pd.read_excel('data/foreclosures.xlsx', parse_dates=True)\n",
    "rent_reg = pd.read_excel('data/rental_registration_permits.xlsx', parse_dates=True)\n",
    "utility_disconnects = pd.read_excel('data/utility_disconnects.xlsx', parse_dates=True)\n",
    "code_cases = pd.read_excel('data/code_cases.xlsx', parse_dates = True)\n",
    "sprinklers = pd.read_excel('data/sprinkler_permits.xlsx', parse_dates=True)\n",
    "comm_sprinklers = pd.read_excel('data/sprinkler_commercial.xlsx', parse_dates = True)\n",
    "library_cards = pd.read_excel('data/library_cards.xlsx', parse_dates = True)\n",
    "\n",
    "# Pending : Crime and tax assessment data"
   ]
  },
  {
   "cell_type": "markdown",
   "metadata": {},
   "source": [
    "# Data description"
   ]
  },
  {
   "cell_type": "code",
   "execution_count": 3,
   "metadata": {},
   "outputs": [
    {
     "data": {
      "text/html": [
       "<div>\n",
       "<style scoped>\n",
       "    .dataframe tbody tr th:only-of-type {\n",
       "        vertical-align: middle;\n",
       "    }\n",
       "\n",
       "    .dataframe tbody tr th {\n",
       "        vertical-align: top;\n",
       "    }\n",
       "\n",
       "    .dataframe thead th {\n",
       "        text-align: right;\n",
       "    }\n",
       "</style>\n",
       "<table border=\"1\" class=\"dataframe\">\n",
       "  <thead>\n",
       "    <tr style=\"text-align: right;\">\n",
       "      <th></th>\n",
       "      <th>FID</th>\n",
       "      <th>Join_Count</th>\n",
       "      <th>TARGET_FID</th>\n",
       "      <th>id</th>\n",
       "      <th>id2</th>\n",
       "      <th>type</th>\n",
       "      <th>date</th>\n",
       "      <th>lat</th>\n",
       "      <th>lon</th>\n",
       "      <th>ADDRESS</th>\n",
       "    </tr>\n",
       "  </thead>\n",
       "  <tbody>\n",
       "    <tr>\n",
       "      <th>0</th>\n",
       "      <td>-1</td>\n",
       "      <td>1</td>\n",
       "      <td>0</td>\n",
       "      <td>802421</td>\n",
       "      <td>142</td>\n",
       "      <td>Brush, or brush and grass mixture fire</td>\n",
       "      <td>4/4/2008 0:00:00</td>\n",
       "      <td>43.508227</td>\n",
       "      <td>-96.696781</td>\n",
       "      <td>4012 S BIRCHWOOD AVE</td>\n",
       "    </tr>\n",
       "    <tr>\n",
       "      <th>1</th>\n",
       "      <td>-1</td>\n",
       "      <td>1</td>\n",
       "      <td>1</td>\n",
       "      <td>802683</td>\n",
       "      <td>142</td>\n",
       "      <td>Brush, or brush and grass mixture fire</td>\n",
       "      <td>4/18/2008 0:00:00</td>\n",
       "      <td>43.559894</td>\n",
       "      <td>-96.734067</td>\n",
       "      <td>1028 N DULUTH AVE</td>\n",
       "    </tr>\n",
       "    <tr>\n",
       "      <th>2</th>\n",
       "      <td>-1</td>\n",
       "      <td>0</td>\n",
       "      <td>2</td>\n",
       "      <td>802713</td>\n",
       "      <td>143</td>\n",
       "      <td>Grass fire</td>\n",
       "      <td>4/19/2008 0:00:00</td>\n",
       "      <td>43.552807</td>\n",
       "      <td>-96.858144</td>\n",
       "      <td></td>\n",
       "    </tr>\n",
       "    <tr>\n",
       "      <th>3</th>\n",
       "      <td>-1</td>\n",
       "      <td>0</td>\n",
       "      <td>3</td>\n",
       "      <td>802802</td>\n",
       "      <td>143</td>\n",
       "      <td>Grass fire</td>\n",
       "      <td>4/22/2008 0:00:00</td>\n",
       "      <td>43.527164</td>\n",
       "      <td>-96.780265</td>\n",
       "      <td></td>\n",
       "    </tr>\n",
       "    <tr>\n",
       "      <th>4</th>\n",
       "      <td>-1</td>\n",
       "      <td>1</td>\n",
       "      <td>4</td>\n",
       "      <td>802831</td>\n",
       "      <td>143</td>\n",
       "      <td>Grass fire</td>\n",
       "      <td>4/23/2008 0:00:00</td>\n",
       "      <td>43.558598</td>\n",
       "      <td>-96.702306</td>\n",
       "      <td>1900 E TRACY LN</td>\n",
       "    </tr>\n",
       "    <tr>\n",
       "      <th>5</th>\n",
       "      <td>-1</td>\n",
       "      <td>1</td>\n",
       "      <td>5</td>\n",
       "      <td>803159</td>\n",
       "      <td>141</td>\n",
       "      <td>Forest, woods or wildland fire</td>\n",
       "      <td>5/5/2008 0:00:00</td>\n",
       "      <td>43.514806</td>\n",
       "      <td>-96.810852</td>\n",
       "      <td>3420 S SERTOMA AVE</td>\n",
       "    </tr>\n",
       "    <tr>\n",
       "      <th>6</th>\n",
       "      <td>-1</td>\n",
       "      <td>1</td>\n",
       "      <td>6</td>\n",
       "      <td>803497</td>\n",
       "      <td>142</td>\n",
       "      <td>Brush, or brush and grass mixture fire</td>\n",
       "      <td>5/18/2008 0:00:00</td>\n",
       "      <td>43.545736</td>\n",
       "      <td>-96.738844</td>\n",
       "      <td>901 W 10TH ST</td>\n",
       "    </tr>\n",
       "    <tr>\n",
       "      <th>7</th>\n",
       "      <td>-1</td>\n",
       "      <td>1</td>\n",
       "      <td>7</td>\n",
       "      <td>803703</td>\n",
       "      <td>143</td>\n",
       "      <td>Grass fire</td>\n",
       "      <td>5/26/2008 0:00:00</td>\n",
       "      <td>43.500291</td>\n",
       "      <td>-96.788213</td>\n",
       "      <td>5111 W EMMITT CIR</td>\n",
       "    </tr>\n",
       "    <tr>\n",
       "      <th>8</th>\n",
       "      <td>-1</td>\n",
       "      <td>1</td>\n",
       "      <td>8</td>\n",
       "      <td>803704</td>\n",
       "      <td>143</td>\n",
       "      <td>Grass fire</td>\n",
       "      <td>5/26/2008 0:00:00</td>\n",
       "      <td>43.529373</td>\n",
       "      <td>-96.790886</td>\n",
       "      <td>5215 W 26TH ST</td>\n",
       "    </tr>\n",
       "    <tr>\n",
       "      <th>9</th>\n",
       "      <td>-1</td>\n",
       "      <td>1</td>\n",
       "      <td>9</td>\n",
       "      <td>804218</td>\n",
       "      <td>142</td>\n",
       "      <td>Brush, or brush and grass mixture fire</td>\n",
       "      <td>6/14/2008 0:00:00</td>\n",
       "      <td>43.553820</td>\n",
       "      <td>-96.800148</td>\n",
       "      <td>601 N VALLEY VIEW RD</td>\n",
       "    </tr>\n",
       "    <tr>\n",
       "      <th>10</th>\n",
       "      <td>-1</td>\n",
       "      <td>1</td>\n",
       "      <td>10</td>\n",
       "      <td>804715</td>\n",
       "      <td>143</td>\n",
       "      <td>Grass fire</td>\n",
       "      <td>7/1/2008 0:00:00</td>\n",
       "      <td>43.561138</td>\n",
       "      <td>-96.761231</td>\n",
       "      <td>1401 N KIWANIS AVE</td>\n",
       "    </tr>\n",
       "    <tr>\n",
       "      <th>11</th>\n",
       "      <td>-1</td>\n",
       "      <td>1</td>\n",
       "      <td>11</td>\n",
       "      <td>804761</td>\n",
       "      <td>143</td>\n",
       "      <td>Grass fire</td>\n",
       "      <td>7/3/2008 0:00:00</td>\n",
       "      <td>43.551886</td>\n",
       "      <td>-96.815823</td>\n",
       "      <td>7408 W SONGBIRD CIR</td>\n",
       "    </tr>\n",
       "    <tr>\n",
       "      <th>12</th>\n",
       "      <td>-1</td>\n",
       "      <td>1</td>\n",
       "      <td>12</td>\n",
       "      <td>804762</td>\n",
       "      <td>143</td>\n",
       "      <td>Grass fire</td>\n",
       "      <td>7/3/2008 0:00:00</td>\n",
       "      <td>43.514786</td>\n",
       "      <td>-96.830794</td>\n",
       "      <td>8200 W 41ST ST</td>\n",
       "    </tr>\n",
       "    <tr>\n",
       "      <th>13</th>\n",
       "      <td>-1</td>\n",
       "      <td>1</td>\n",
       "      <td>13</td>\n",
       "      <td>804795</td>\n",
       "      <td>143</td>\n",
       "      <td>Grass fire</td>\n",
       "      <td>7/4/2008 0:00:00</td>\n",
       "      <td>43.543902</td>\n",
       "      <td>-96.830740</td>\n",
       "      <td>8531 W BRYGGEN CT</td>\n",
       "    </tr>\n",
       "    <tr>\n",
       "      <th>14</th>\n",
       "      <td>-1</td>\n",
       "      <td>0</td>\n",
       "      <td>14</td>\n",
       "      <td>804800</td>\n",
       "      <td>143</td>\n",
       "      <td>Grass fire</td>\n",
       "      <td>7/4/2008 0:00:00</td>\n",
       "      <td>43.514740</td>\n",
       "      <td>-96.860571</td>\n",
       "      <td></td>\n",
       "    </tr>\n",
       "    <tr>\n",
       "      <th>15</th>\n",
       "      <td>-1</td>\n",
       "      <td>1</td>\n",
       "      <td>15</td>\n",
       "      <td>804805</td>\n",
       "      <td>143</td>\n",
       "      <td>Grass fire</td>\n",
       "      <td>7/4/2008 0:00:00</td>\n",
       "      <td>43.558411</td>\n",
       "      <td>-96.766129</td>\n",
       "      <td>2908 W MADISON ST</td>\n",
       "    </tr>\n",
       "    <tr>\n",
       "      <th>16</th>\n",
       "      <td>-1</td>\n",
       "      <td>1</td>\n",
       "      <td>16</td>\n",
       "      <td>804954</td>\n",
       "      <td>143</td>\n",
       "      <td>Grass fire</td>\n",
       "      <td>7/10/2008 0:00:00</td>\n",
       "      <td>43.593359</td>\n",
       "      <td>-96.725742</td>\n",
       "      <td>4501 N 2ND AVE</td>\n",
       "    </tr>\n",
       "    <tr>\n",
       "      <th>17</th>\n",
       "      <td>-1</td>\n",
       "      <td>1</td>\n",
       "      <td>17</td>\n",
       "      <td>805053</td>\n",
       "      <td>143</td>\n",
       "      <td>Grass fire</td>\n",
       "      <td>7/13/2008 0:00:00</td>\n",
       "      <td>43.514864</td>\n",
       "      <td>-96.651734</td>\n",
       "      <td>5801 E 41ST ST</td>\n",
       "    </tr>\n",
       "    <tr>\n",
       "      <th>18</th>\n",
       "      <td>-1</td>\n",
       "      <td>1</td>\n",
       "      <td>18</td>\n",
       "      <td>805104</td>\n",
       "      <td>141</td>\n",
       "      <td>Forest, woods or wildland fire</td>\n",
       "      <td>7/15/2008 0:00:00</td>\n",
       "      <td>43.542553</td>\n",
       "      <td>-96.809191</td>\n",
       "      <td>1005 S MELROSE PL</td>\n",
       "    </tr>\n",
       "    <tr>\n",
       "      <th>19</th>\n",
       "      <td>-1</td>\n",
       "      <td>1</td>\n",
       "      <td>19</td>\n",
       "      <td>805127</td>\n",
       "      <td>143</td>\n",
       "      <td>Grass fire</td>\n",
       "      <td>7/16/2008 0:00:00</td>\n",
       "      <td>43.578802</td>\n",
       "      <td>-96.718852</td>\n",
       "      <td>3105 N 7TH AVE</td>\n",
       "    </tr>\n",
       "  </tbody>\n",
       "</table>\n",
       "</div>"
      ],
      "text/plain": [
       "    FID  Join_Count  TARGET_FID      id  id2  \\\n",
       "0    -1           1           0  802421  142   \n",
       "1    -1           1           1  802683  142   \n",
       "2    -1           0           2  802713  143   \n",
       "3    -1           0           3  802802  143   \n",
       "4    -1           1           4  802831  143   \n",
       "5    -1           1           5  803159  141   \n",
       "6    -1           1           6  803497  142   \n",
       "7    -1           1           7  803703  143   \n",
       "8    -1           1           8  803704  143   \n",
       "9    -1           1           9  804218  142   \n",
       "10   -1           1          10  804715  143   \n",
       "11   -1           1          11  804761  143   \n",
       "12   -1           1          12  804762  143   \n",
       "13   -1           1          13  804795  143   \n",
       "14   -1           0          14  804800  143   \n",
       "15   -1           1          15  804805  143   \n",
       "16   -1           1          16  804954  143   \n",
       "17   -1           1          17  805053  143   \n",
       "18   -1           1          18  805104  141   \n",
       "19   -1           1          19  805127  143   \n",
       "\n",
       "                                      type               date        lat  \\\n",
       "0   Brush, or brush and grass mixture fire   4/4/2008 0:00:00  43.508227   \n",
       "1   Brush, or brush and grass mixture fire  4/18/2008 0:00:00  43.559894   \n",
       "2                               Grass fire  4/19/2008 0:00:00  43.552807   \n",
       "3                               Grass fire  4/22/2008 0:00:00  43.527164   \n",
       "4                               Grass fire  4/23/2008 0:00:00  43.558598   \n",
       "5           Forest, woods or wildland fire   5/5/2008 0:00:00  43.514806   \n",
       "6   Brush, or brush and grass mixture fire  5/18/2008 0:00:00  43.545736   \n",
       "7                               Grass fire  5/26/2008 0:00:00  43.500291   \n",
       "8                               Grass fire  5/26/2008 0:00:00  43.529373   \n",
       "9   Brush, or brush and grass mixture fire  6/14/2008 0:00:00  43.553820   \n",
       "10                              Grass fire   7/1/2008 0:00:00  43.561138   \n",
       "11                              Grass fire   7/3/2008 0:00:00  43.551886   \n",
       "12                              Grass fire   7/3/2008 0:00:00  43.514786   \n",
       "13                              Grass fire   7/4/2008 0:00:00  43.543902   \n",
       "14                              Grass fire   7/4/2008 0:00:00  43.514740   \n",
       "15                              Grass fire   7/4/2008 0:00:00  43.558411   \n",
       "16                              Grass fire  7/10/2008 0:00:00  43.593359   \n",
       "17                              Grass fire  7/13/2008 0:00:00  43.514864   \n",
       "18          Forest, woods or wildland fire  7/15/2008 0:00:00  43.542553   \n",
       "19                              Grass fire  7/16/2008 0:00:00  43.578802   \n",
       "\n",
       "          lon               ADDRESS  \n",
       "0  -96.696781  4012 S BIRCHWOOD AVE  \n",
       "1  -96.734067     1028 N DULUTH AVE  \n",
       "2  -96.858144                        \n",
       "3  -96.780265                        \n",
       "4  -96.702306       1900 E TRACY LN  \n",
       "5  -96.810852    3420 S SERTOMA AVE  \n",
       "6  -96.738844         901 W 10TH ST  \n",
       "7  -96.788213     5111 W EMMITT CIR  \n",
       "8  -96.790886        5215 W 26TH ST  \n",
       "9  -96.800148  601 N VALLEY VIEW RD  \n",
       "10 -96.761231    1401 N KIWANIS AVE  \n",
       "11 -96.815823   7408 W SONGBIRD CIR  \n",
       "12 -96.830794        8200 W 41ST ST  \n",
       "13 -96.830740     8531 W BRYGGEN CT  \n",
       "14 -96.860571                        \n",
       "15 -96.766129     2908 W MADISON ST  \n",
       "16 -96.725742        4501 N 2ND AVE  \n",
       "17 -96.651734        5801 E 41ST ST  \n",
       "18 -96.809191     1005 S MELROSE PL  \n",
       "19 -96.718852        3105 N 7TH AVE  "
      ]
     },
     "execution_count": 3,
     "metadata": {},
     "output_type": "execute_result"
    }
   ],
   "source": [
    "fires.head(20)"
   ]
  },
  {
   "cell_type": "code",
   "execution_count": 4,
   "metadata": {},
   "outputs": [
    {
     "data": {
      "text/plain": [
       "FID             int64\n",
       "Join_Count      int64\n",
       "TARGET_FID      int64\n",
       "id              int64\n",
       "id2             int64\n",
       "type           object\n",
       "date           object\n",
       "lat           float64\n",
       "lon           float64\n",
       "ADDRESS        object\n",
       "dtype: object"
      ]
     },
     "execution_count": 4,
     "metadata": {},
     "output_type": "execute_result"
    }
   ],
   "source": [
    "fires.dtypes"
   ]
  },
  {
   "cell_type": "code",
   "execution_count": 5,
   "metadata": {},
   "outputs": [
    {
     "data": {
      "text/plain": [
       "Building fire                                               1258\n",
       "Passenger vehicle fire                                       639\n",
       "Cooking fire, confined to container                          244\n",
       "Grass fire                                                   198\n",
       "Dumpster or other outside trash receptacle fire              183\n",
       "Outside rubbish, trash or waste fire                         124\n",
       "Brush, or brush and grass mixture fire                        94\n",
       "Special outside fire, other                                   91\n",
       "Outside equipment fire                                        80\n",
       "Mobile property (vehicle) fire, other                         71\n",
       "Fire, other                                                   71\n",
       "Natural vegetation fire, other                                70\n",
       "Trash or rubbish fire, contained                              64\n",
       "Outside rubbish fire, other                                   57\n",
       "Fire in mobile home used as fixed residence                   56\n",
       "Road freight or transport vehicle fire                        35\n",
       "Forest, woods or wildland fire                                19\n",
       "Off-road vehicle or heavy equipment fire                      16\n",
       "Fires in structures other than in a building                  15\n",
       "Outside storage fire                                          10\n",
       "Fire in portable building, fixed location                      7\n",
       "Chimney or flue fire, confined to chimney or flue              7\n",
       "Cultivated grain or crop fire                                  7\n",
       "Camper or recreational vehicle (RV) fire                       6\n",
       "Outside gas or vapor combustion explosion                      5\n",
       "Fuel burner/boiler malfunction, fire confined                  5\n",
       "Incinerator overload or malfunction, fire confined             3\n",
       "Commercial Compactor fire, confined to rubbish                 3\n",
       "Fire in mobile property used as a fixed structure, other       3\n",
       "Self-propelled motor home or recreational vehicle              3\n",
       "Cultivated vegetation, crop fire, other                        3\n",
       "Water vehicle fire                                             2\n",
       "Outside mailbox fire                                           2\n",
       "Cultivated trees or nursery stock fire                         2\n",
       "Aircraft fire                                                  2\n",
       "Fire in motor home, camper, recreational vehicle               2\n",
       "Construction or demolition landfill fire                       1\n",
       "Outside stationary compactor/compacted trash fire              1\n",
       "Garbage dump or sanitary landfill fire                         1\n",
       "Name: type, dtype: int64"
      ]
     },
     "execution_count": 5,
     "metadata": {},
     "output_type": "execute_result"
    }
   ],
   "source": [
    "fires.type.value_counts()"
   ]
  },
  {
   "cell_type": "code",
   "execution_count": 6,
   "metadata": {},
   "outputs": [
    {
     "name": "stdout",
     "output_type": "stream",
     "text": [
      "<class 'pandas.core.frame.DataFrame'>\n",
      "Int64Index: 1258 entries, 652 to 2318\n",
      "Data columns (total 10 columns):\n",
      "FID           1258 non-null int64\n",
      "Join_Count    1258 non-null int64\n",
      "TARGET_FID    1258 non-null int64\n",
      "id            1258 non-null int64\n",
      "id2           1258 non-null int64\n",
      "type          1258 non-null object\n",
      "date          1258 non-null object\n",
      "lat           1258 non-null float64\n",
      "lon           1258 non-null float64\n",
      "ADDRESS       1258 non-null object\n",
      "dtypes: float64(2), int64(5), object(3)\n",
      "memory usage: 108.1+ KB\n"
     ]
    }
   ],
   "source": [
    "building_fires = fires[fires['id2']== 111].copy()\n",
    "building_fires.info()"
   ]
  },
  {
   "cell_type": "code",
   "execution_count": 7,
   "metadata": {
    "scrolled": false
   },
   "outputs": [
    {
     "data": {
      "text/html": [
       "<div style=\"width:100%;\"><div style=\"position:relative;width:100%;height:0;padding-bottom:60%;\"><iframe src=\"data:text/html;charset=utf-8;base64,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\" style=\"position:absolute;width:100%;height:100%;left:0;top:0;border:none !important;\" allowfullscreen webkitallowfullscreen mozallowfullscreen></iframe></div></div>"
      ],
      "text/plain": [
       "<folium.folium.Map at 0x23164b80f60>"
      ]
     },
     "execution_count": 7,
     "metadata": {},
     "output_type": "execute_result"
    }
   ],
   "source": [
    "fire_map = folium.Map(location=[43.54, -96.72], zoom_start=14, tiles='Stamen Terrain')\n",
    "heat_df = building_fires[['lat', 'lon']]\n",
    "heat_df = heat_df.dropna(axis=0, subset=['lat','lon'])\n",
    "heat_data = [[row['lat'],row['lon']] for index, row in heat_df.iterrows()]\n",
    "HeatMap(heat_data).add_to(fire_map)\n",
    "fire_map"
   ]
  },
  {
   "cell_type": "code",
   "execution_count": 8,
   "metadata": {},
   "outputs": [
    {
     "name": "stdout",
     "output_type": "stream",
     "text": [
      "fires  ... has the following columns: \n",
      "Index(['FID', 'Join_Count', 'TARGET_FID', 'id', 'id2', 'type', 'date', 'lat',\n",
      "       'lon', 'ADDRESS'],\n",
      "      dtype='object')\n",
      "parcels  ... has the following columns: \n",
      "Index(['TAG', 'COUNTYID', 'ADDRESS', 'OWNNAME1', 'OWNNAME2', 'OWNADDRESS',\n",
      "       'OWNCITY', 'OWNSTATE', 'OWNZIP', 'OWNZIP2', 'SQFT', 'ACREAGE',\n",
      "       'FRONTFOOT', 'LEGAL', 'ADDITION', 'ADDITIONNU', 'PARHOUSE', 'PARHALF',\n",
      "       'PARPR', 'PARSTREET', 'PARTYPE', 'PARPD', 'UNITNUM', 'ACTIVITY',\n",
      "       'LANDUSE', 'NUMUNITS', 'COUNTY', 'LegalStart', 'GlobalID', 'created_us',\n",
      "       'created_da', 'last_edite', 'last_edi_1', 'ADDITIONPR', 'PARCEL_LOT',\n",
      "       'PARCEL_TRA', 'BlockDesig', 'FORM_PRIMA', 'FORM_ACCES', 'FORM_SIGNE',\n",
      "       'FORM_DATE', 'FORM_COMME', 'DEPARTMENT', 'PARCELTYPE', 'ZIPCODE',\n",
      "       'Shape_Leng', 'Shape_Area'],\n",
      "      dtype='object')\n",
      "foreclosures  ... has the following columns: \n",
      "Index(['ADDRESS', 'NAME', 'AUCTIONDATE', 'ASSESSEDVALUE', 'YEAR'], dtype='object')\n",
      "rent_reg  ... has the following columns: \n",
      "Index(['Address', 'City_1', 'State_1', 'Permit_Num', 'Contact_Ty', 'Last_Name',\n",
      "       'First_Name', 'Middle_Ini', 'Business_N', 'Contact_Pr', 'Business_P',\n",
      "       'Mobile_Pho', 'Home_Phone', 'Email', 'Contact_Ad', 'Issue_Date',\n",
      "       'Units', 'UnitsCat', 'YEAR'],\n",
      "      dtype='object')\n",
      "utility_disconnects  ... has the following columns: \n",
      "Index(['Address', 'Year'], dtype='object')\n",
      "code_cases  ... has the following columns: \n",
      "Index(['ADDRESS', 'CaseType', 'Status', 'CaseNumber', 'OPENEDDATE',\n",
      "       'CLOSEDDATE', 'Year'],\n",
      "      dtype='object')\n",
      "sprinklers  ... has the following columns: \n",
      "Index(['Permit_Number', 'Permit_Type', 'Work_Class', 'Issue_Date',\n",
      "       'Final_Date', 'Permit_Address'],\n",
      "      dtype='object')\n",
      "comm_sprinklers  ... has the following columns: \n",
      "Index(['Permit_Number', 'Permit_Type', 'Permit_Workclass', 'Issue_Date',\n",
      "       'Final_Date', 'Permit_Address'],\n",
      "      dtype='object')\n",
      "library_cards  ... has the following columns: \n",
      "Index(['LastActivityDate', 'PatronBranchName', 'ADDRESS_UPPER', 'ADDRESS',\n",
      "       'APT', 'STREETTwo', 'City', 'State', 'PostalCode', 'county'],\n",
      "      dtype='object')\n"
     ]
    }
   ],
   "source": [
    "def explore_dataset(df):\n",
    "    print('Size of the dataset ', df.shape)\n",
    "    print('Column types', df.dtypes)\n",
    "    print('Example', df.head(1))\n",
    "\n",
    "datasets = [fires, parcels, foreclosures, rent_reg, utility_disconnects, code_cases, sprinklers, comm_sprinklers, library_cards]\n",
    "\n",
    "for dataset in datasets:\n",
    "    print(get_df_name(dataset), ' ... has the following columns: ')\n",
    "    print(dataset.columns)"
   ]
  },
  {
   "cell_type": "code",
   "execution_count": 9,
   "metadata": {},
   "outputs": [
    {
     "name": "stdout",
     "output_type": "stream",
     "text": [
      "Number of addresses:  59865\n",
      "Average Square Footage:  30227.185312557227\n",
      "Average Acreage:  0.6944511462280407\n"
     ]
    }
   ],
   "source": [
    "def explore_parcel_data(df):\n",
    "    \"\"\"Calculate and display basic data about parcels.\"\"\"\n",
    "    print(\"Number of addresses: \", df.shape[0])\n",
    "    print('Average Square Footage: ', np.mean(df.SQFT))\n",
    "    print('Average Acreage: ', np.mean(df.ACREAGE))\n",
    "    \n",
    "\n",
    "    \n",
    "\n",
    "    # Please calculate the following values using the Numpy library\n",
    "    # Size of data (number of houses)?\n",
    "    # Number of features?\n",
    "    # Minimum price?\n",
    "    # Maximum price?\n",
    "    # Calculate mean price?\n",
    "    # Calculate median price?\n",
    "    # Calculate standard deviation?\n",
    "    '''\n",
    "    number_of_parcels = df.shape[0]\n",
    "    number_of_features = housing_features.shape[1]\n",
    "    max_price = np.max(housing_prices)\n",
    "    min_price = np.min(housing_prices)\n",
    "    mean_price = np.mean(housing_prices)\n",
    "    median_price = np.median(housing_prices)\n",
    "    standard_deviation = np.std(housing_prices)\n",
    "\n",
    "    print(\"number of features:\",number_of_features)\n",
    "    print(\"max price of house:\",max_price)\n",
    "    print(\"min price of house:\",min_price)\n",
    "    print(\"mean price of house:\",mean_price)\n",
    "    print(\"median price of house:\",median_price)\n",
    "    print(\"standard deviation for prices of house:\",standard_deviation)\n",
    "    '''\n",
    "\n",
    "explore_parcel_data(parcels)\n"
   ]
  },
  {
   "cell_type": "code",
   "execution_count": 10,
   "metadata": {},
   "outputs": [],
   "source": [
    "# Check the article to find out how to quickly recognize duplicate data"
   ]
  },
  {
   "cell_type": "code",
   "execution_count": 11,
   "metadata": {},
   "outputs": [
    {
     "data": {
      "text/plain": [
       "(59865, 47)"
      ]
     },
     "execution_count": 11,
     "metadata": {},
     "output_type": "execute_result"
    }
   ],
   "source": [
    "parcels.shape"
   ]
  },
  {
   "cell_type": "markdown",
   "metadata": {},
   "source": [
    "# Data wrangling"
   ]
  },
  {
   "cell_type": "code",
   "execution_count": 12,
   "metadata": {},
   "outputs": [],
   "source": [
    "# Wrangling the parcels dataset\n",
    "parcels.ZIPCODE = parcels.ZIPCODE.astype('object')\n",
    "parcels['LEGAL_START_YEAR'] = pd.DatetimeIndex(parcels['LegalStart']).year\n",
    "parcels['OWNER_ZIP'] = str(parcels.OWNZIP)\n",
    "parcels.OWNZIP2.replace(0, np.nan, inplace=True)\n",
    "parcels.OWNZIP.replace(0, np.nan, inplace=True)\n",
    "parcels['OWNER_ZIP'] = parcels.OWNZIP.astype(str) + parcels.OWNZIP2.astype(str)\n",
    "parcels = pd.concat([parcels, pd.get_dummies(parcels.PARPR), pd.get_dummies(parcels.PARTYPE), pd.get_dummies(parcels.COUNTY)], axis = 1)\n",
    "parcels.drop(columns = ['TAG', 'COUNTYID', 'OWNNAME1', 'OWNZIP', 'OWNZIP2', 'OWNNAME2', 'OWNCITY', 'OWNSTATE', 'OWNADDRESS', 'LEGAL', 'ADDITIONNU', 'PARHALF', 'PARPD', 'UNITNUM', 'GlobalID', 'last_edite', 'Shape_Leng', 'Shape_Area', 'DEPARTMENT', 'FORM_ACCES', 'FORM_SIGNE', 'FORM_DATE', 'created_da', 'last_edi_1', 'PARPR', 'PARTYPE', 'COUNTY'], inplace = True)\n"
   ]
  },
  {
   "cell_type": "code",
   "execution_count": 13,
   "metadata": {
    "scrolled": false
   },
   "outputs": [],
   "source": [
    "building_fires.drop(columns=['FID', 'Join_Count', 'TARGET_FID', 'id', 'type', 'lat', 'lon', 'date'], inplace = True)\n",
    "address_grouped = building_fires.groupby('ADDRESS').count()\n",
    "fire_df = pd.DataFrame(address_grouped)"
   ]
  },
  {
   "cell_type": "code",
   "execution_count": 14,
   "metadata": {},
   "outputs": [
    {
     "data": {
      "text/html": [
       "<div>\n",
       "<style scoped>\n",
       "    .dataframe tbody tr th:only-of-type {\n",
       "        vertical-align: middle;\n",
       "    }\n",
       "\n",
       "    .dataframe tbody tr th {\n",
       "        vertical-align: top;\n",
       "    }\n",
       "\n",
       "    .dataframe thead th {\n",
       "        text-align: right;\n",
       "    }\n",
       "</style>\n",
       "<table border=\"1\" class=\"dataframe\">\n",
       "  <thead>\n",
       "    <tr style=\"text-align: right;\">\n",
       "      <th></th>\n",
       "      <th>id2</th>\n",
       "    </tr>\n",
       "    <tr>\n",
       "      <th>ADDRESS</th>\n",
       "      <th></th>\n",
       "    </tr>\n",
       "  </thead>\n",
       "  <tbody>\n",
       "    <tr>\n",
       "      <th></th>\n",
       "      <td>1</td>\n",
       "    </tr>\n",
       "    <tr>\n",
       "      <th>26345 463RD AVE</th>\n",
       "      <td>1</td>\n",
       "    </tr>\n",
       "    <tr>\n",
       "      <th>100 E BENSON RD</th>\n",
       "      <td>1</td>\n",
       "    </tr>\n",
       "    <tr>\n",
       "      <th>100 S PRAIRIE AVE</th>\n",
       "      <td>1</td>\n",
       "    </tr>\n",
       "    <tr>\n",
       "      <th>100 S WILLIAMS AVE</th>\n",
       "      <td>1</td>\n",
       "    </tr>\n",
       "  </tbody>\n",
       "</table>\n",
       "</div>"
      ],
      "text/plain": [
       "                    id2\n",
       "ADDRESS                \n",
       "                      1\n",
       " 26345 463RD AVE      1\n",
       "100 E BENSON RD       1\n",
       "100 S PRAIRIE AVE     1\n",
       "100 S WILLIAMS AVE    1"
      ]
     },
     "execution_count": 14,
     "metadata": {},
     "output_type": "execute_result"
    }
   ],
   "source": [
    "fire_df.head()"
   ]
  },
  {
   "cell_type": "code",
   "execution_count": 15,
   "metadata": {
    "scrolled": true
   },
   "outputs": [
    {
     "name": "stdout",
     "output_type": "stream",
     "text": [
      "(59865, 46)\n",
      "1374.0\n"
     ]
    }
   ],
   "source": [
    "df = pd.merge(parcels, fire_df, how = 'left', on='ADDRESS')\n",
    "print(df.shape)\n",
    "print(df.id2.sum())"
   ]
  },
  {
   "cell_type": "code",
   "execution_count": 16,
   "metadata": {},
   "outputs": [],
   "source": [
    "df.loc[df['id2'] >= 1, 'INCIDENT'] = 1\n",
    "df.loc[df['id2'] != 1, 'INCIDENT'] = 0\n",
    "df.drop(columns=['id2'], inplace = True)"
   ]
  },
  {
   "cell_type": "code",
   "execution_count": 17,
   "metadata": {},
   "outputs": [],
   "source": [
    "foreclosure_df = pd.DataFrame(foreclosures.groupby('ADDRESS').count())\n",
    "foreclosure_df.rename(columns = { 'NAME' : 'FORECLOSED'}, inplace = True)\n",
    "foreclosure_df.drop(columns = ['AUCTIONDATE', 'ASSESSEDVALUE', 'YEAR'], inplace = True)\n",
    "df = pd.merge(df, foreclosure_df, how = 'left', on = 'ADDRESS')\n",
    "df.FORECLOSED.fillna(0, inplace = True)"
   ]
  },
  {
   "cell_type": "code",
   "execution_count": 18,
   "metadata": {},
   "outputs": [
    {
     "data": {
      "text/plain": [
       "1919.0"
      ]
     },
     "execution_count": 18,
     "metadata": {},
     "output_type": "execute_result"
    }
   ],
   "source": [
    "df.FORECLOSED.sum()"
   ]
  },
  {
   "cell_type": "code",
   "execution_count": null,
   "metadata": {},
   "outputs": [],
   "source": []
  },
  {
   "cell_type": "code",
   "execution_count": null,
   "metadata": {},
   "outputs": [],
   "source": []
  },
  {
   "cell_type": "code",
   "execution_count": 19,
   "metadata": {},
   "outputs": [
    {
     "data": {
      "text/plain": [
       "[Text(0.5, 0, 'SQFT'),\n",
       " Text(1.5, 0, 'ACREAGE'),\n",
       " Text(2.5, 0, 'FRONTFOOT'),\n",
       " Text(3.5, 0, 'PARHOUSE'),\n",
       " Text(4.5, 0, 'ACTIVITY'),\n",
       " Text(5.5, 0, 'LANDUSE'),\n",
       " Text(6.5, 0, 'NUMUNITS'),\n",
       " Text(7.5, 0, 'LEGAL_START_YEAR'),\n",
       " Text(8.5, 0, 'E'),\n",
       " Text(9.5, 0, 'N'),\n",
       " Text(10.5, 0, 'S'),\n",
       " Text(11.5, 0, 'W'),\n",
       " Text(12.5, 0, 'AVE'),\n",
       " Text(13.5, 0, 'BLVD'),\n",
       " Text(14.5, 0, 'CIR'),\n",
       " Text(15.5, 0, 'CT'),\n",
       " Text(16.5, 0, 'DR'),\n",
       " Text(17.5, 0, 'HTS'),\n",
       " Text(18.5, 0, 'LN'),\n",
       " Text(19.5, 0, 'MNR'),\n",
       " Text(20.5, 0, 'PASS'),\n",
       " Text(21.5, 0, 'PKWY'),\n",
       " Text(22.5, 0, 'PL'),\n",
       " Text(23.5, 0, 'RD'),\n",
       " Text(24.5, 0, 'RDG'),\n",
       " Text(25.5, 0, 'ST'),\n",
       " Text(26.5, 0, 'TER'),\n",
       " Text(27.5, 0, 'TRL'),\n",
       " Text(28.5, 0, 'WAY'),\n",
       " Text(29.5, 0, 'LINCOLN'),\n",
       " Text(30.5, 0, 'MINNEHAHA'),\n",
       " Text(31.5, 0, 'INCIDENT'),\n",
       " Text(32.5, 0, 'FORECLOSED')]"
      ]
     },
     "execution_count": 19,
     "metadata": {},
     "output_type": "execute_result"
    },
    {
     "data": {
      "image/png": "[encoded data removed]",
      "text/plain": [
       "<Figure size 720x720 with 2 Axes>"
      ]
     },
     "metadata": {
      "needs_background": "light"
     },
     "output_type": "display_data"
    }
   ],
   "source": [
    "corr = df.corr()\n",
    "\n",
    "\n",
    "plt.figure(figsize = (10,10))\n",
    "\n",
    "ax = sns.heatmap(\n",
    "    corr, \n",
    "    vmin=-1, vmax=1, center=0,\n",
    "    cmap=sns.diverging_palette(20, 220, n=200),\n",
    "    square=True\n",
    ")\n",
    "\n",
    "\n",
    "ax.set_xticklabels(\n",
    "    ax.get_xticklabels(),\n",
    "    rotation=45,\n",
    "    horizontalalignment='right'\n",
    ")"
   ]
  },
  {
   "cell_type": "markdown",
   "metadata": {},
   "source": [
    "# Machine Learning Model"
   ]
  },
  {
   "cell_type": "code",
   "execution_count": 32,
   "metadata": {},
   "outputs": [
    {
     "name": "stdout",
     "output_type": "stream",
     "text": [
      "<class 'pandas.core.frame.DataFrame'>\n",
      "Int64Index: 59865 entries, 0 to 59864\n",
      "Data columns (total 47 columns):\n",
      "ADDRESS             59855 non-null object\n",
      "SQFT                59865 non-null float64\n",
      "ACREAGE             59865 non-null float64\n",
      "FRONTFOOT           59865 non-null float64\n",
      "ADDITION            59846 non-null object\n",
      "PARHOUSE            59852 non-null float64\n",
      "PARSTREET           59148 non-null object\n",
      "ACTIVITY            59865 non-null int64\n",
      "LANDUSE             59865 non-null int64\n",
      "NUMUNITS            59865 non-null int64\n",
      "LegalStart          9993 non-null datetime64[ns]\n",
      "created_us          59865 non-null object\n",
      "ADDITIONPR          2743 non-null object\n",
      "PARCEL_LOT          18420 non-null object\n",
      "PARCEL_TRA          1133 non-null object\n",
      "BlockDesig          22536 non-null object\n",
      "FORM_PRIMA          55453 non-null object\n",
      "FORM_COMME          21681 non-null object\n",
      "PARCELTYPE          59855 non-null object\n",
      "ZIPCODE             59865 non-null object\n",
      "LEGAL_START_YEAR    9993 non-null float64\n",
      "OWNER_ZIP           59865 non-null object\n",
      "E                   59865 non-null uint8\n",
      "N                   59865 non-null uint8\n",
      "S                   59865 non-null uint8\n",
      "W                   59865 non-null uint8\n",
      "AVE                 59865 non-null uint8\n",
      "BLVD                59865 non-null uint8\n",
      "CIR                 59865 non-null uint8\n",
      "CT                  59865 non-null uint8\n",
      "DR                  59865 non-null uint8\n",
      "HTS                 59865 non-null uint8\n",
      "LN                  59865 non-null uint8\n",
      "MNR                 59865 non-null uint8\n",
      "PASS                59865 non-null uint8\n",
      "PKWY                59865 non-null uint8\n",
      "PL                  59865 non-null uint8\n",
      "RD                  59865 non-null uint8\n",
      "RDG                 59865 non-null uint8\n",
      "ST                  59865 non-null uint8\n",
      "TER                 59865 non-null uint8\n",
      "TRL                 59865 non-null uint8\n",
      "WAY                 59865 non-null uint8\n",
      "LINCOLN             59865 non-null uint8\n",
      "MINNEHAHA           59865 non-null uint8\n",
      "INCIDENT            59865 non-null float64\n",
      "FORECLOSED          59865 non-null float64\n",
      "dtypes: datetime64[ns](1), float64(7), int64(3), object(13), uint8(23)\n",
      "memory usage: 12.7+ MB\n"
     ]
    }
   ],
   "source": [
    "df.info()"
   ]
  },
  {
   "cell_type": "code",
   "execution_count": 29,
   "metadata": {},
   "outputs": [
    {
     "data": {
      "text/plain": [
       "'\\ndef rfc_model(X, y):\\n# Perform Grid-Search\\n    gsc = GridSearchCV(\\n        estimator=RandomForestClassifier(),\\n        param_grid={\\n            \\'max_depth\\': range(3,5),\\n            \\'n_estimators\\': (10, 50, 100, 1000),\\n        },\\n        cv=5, verbose=0, n_jobs=-1)\\n    \\n    grid_result = gsc.fit(X, y)\\n    best_params = grid_result.best_params_\\n    \\n    rfc = RandomForestClassifier(max_depth=best_params[\"max_depth\"], n_estimators=best_params[\"n_estimators\"],                               random_state=False, verbose=False)\\n# Perform K-Fold CV\\n    scores = cross_val_score(rfc, X, y, cv=5)\\n\\n    return scores\\n\\nresults = rfc_model(X, y)\\n\\nprint(results)\\n'"
      ]
     },
     "execution_count": 29,
     "metadata": {},
     "output_type": "execute_result"
    }
   ],
   "source": [
    "X = df[['SQFT', 'NUMUNITS', 'E']]\n",
    "y = df['INCIDENT']\n",
    "\n",
    "\n",
    "# Fuck the pipeline, do a normal random forest fit and a cross val to check\n",
    "\n",
    "rf = RandomForestClassifier(max_depth=5, n_estimators=10)\n",
    "rf.fit(X, y)\n",
    "\n",
    "'''\n",
    "def rfc_model(X, y):\n",
    "# Perform Grid-Search\n",
    "    gsc = GridSearchCV(\n",
    "        estimator=RandomForestClassifier(),\n",
    "        param_grid={\n",
    "            'max_depth': range(3,5),\n",
    "            'n_estimators': (10, 50, 100, 1000),\n",
    "        },\n",
    "        cv=5, verbose=0, n_jobs=-1)\n",
    "    \n",
    "    grid_result = gsc.fit(X, y)\n",
    "    best_params = grid_result.best_params_\n",
    "    \n",
    "    rfc = RandomForestClassifier(max_depth=best_params[\"max_depth\"], n_estimators=best_params[\"n_estimators\"],                               random_state=False, verbose=False)\n",
    "# Perform K-Fold CV\n",
    "    scores = cross_val_score(rfc, X, y, cv=5)\n",
    "\n",
    "    return scores\n",
    "\n",
    "results = rfc_model(X, y)\n",
    "\n",
    "print(results)\n",
    "'''\n"
   ]
  },
  {
   "cell_type": "code",
   "execution_count": 30,
   "metadata": {},
   "outputs": [
    {
     "data": {
      "text/plain": [
       "array([0.9827111 , 0.98266099, 0.9827111 ])"
      ]
     },
     "execution_count": 30,
     "metadata": {},
     "output_type": "execute_result"
    }
   ],
   "source": [
    "cross_val_score(rf, X, y, cv=3)"
   ]
  },
  {
   "cell_type": "markdown",
   "metadata": {},
   "source": [
    "# Fitting the winning model and analyzing the results"
   ]
  },
  {
   "cell_type": "code",
   "execution_count": 22,
   "metadata": {},
   "outputs": [
    {
     "name": "stdout",
     "output_type": "stream",
     "text": [
      "0.9827110999749437\n",
      "Best score so far is... 0.9827111068301398\n"
     ]
    }
   ],
   "source": [
    "print(np.mean(results))\n",
    "\n",
    "best = 0.9827111068301398\n",
    "\n",
    "print('Best score so far is...', best)"
   ]
  },
  {
   "cell_type": "code",
   "execution_count": 34,
   "metadata": {},
   "outputs": [
    {
     "name": "stdout",
     "output_type": "stream",
     "text": [
      "A baseline guess would be... 0.9827110999749437\n"
     ]
    }
   ],
   "source": [
    "print ('A baseline guess would be...', 1-1035/59865)"
   ]
  }
 ],
 "metadata": {
  "kernelspec": {
   "display_name": "Python 3",
   "language": "python",
   "name": "python3"
  },
  "language_info": {
   "codemirror_mode": {
    "name": "ipython",
    "version": 3
   },
   "file_extension": ".py",
   "mimetype": "text/x-python",
   "name": "python",
   "nbconvert_exporter": "python",
   "pygments_lexer": "ipython3",
   "version": "3.7.3"
  }
 },
 "nbformat": 4,
 "nbformat_minor": 2
}
